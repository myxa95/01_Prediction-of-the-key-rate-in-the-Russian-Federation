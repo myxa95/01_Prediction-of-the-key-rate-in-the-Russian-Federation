{
 "cells": [
  {
   "cell_type": "code",
   "execution_count": null,
   "metadata": {},
   "outputs": [],
   "source": [
    "import pandas as pd\n",
    "import matplotlib.pyplot as plt\n",
    "import seaborn as sns\n",
    "import numpy as np\n",
    "import requests\n",
    "\n",
    "from pandas import CategoricalDtype\n",
    "from bs4 import BeautifulSoup\n",
    "from datetime import date\n",
    "from prophet import Prophet\n",
    "from sklearn.metrics import mean_absolute_error, mean_absolute_percentage_error\n",
    "from scipy import stats\n",
    "\n",
    "import sys\n",
    "import os\n",
    "\n",
    "backend_path = os.path.abspath('../backend')\n",
    "sys.path.append(backend_path)\n",
    "from get_metrics import get_metrics\n",
    "\n"
   ]
  },
  {
   "cell_type": "markdown",
   "metadata": {},
   "source": [
    "# Parsing"
   ]
  },
  {
   "cell_type": "code",
   "execution_count": null,
   "metadata": {},
   "outputs": [],
   "source": [
    "# парсинг ключевой ставки в df\n",
    "URL = 'https://www.cbr.ru/hd_base/keyrate/?UniDbQuery.Posted=True&UniDbQuery.From=17.09.2013&UniDbQuery.To=' + date.today().strftime('%d.%m.%Y')\n",
    "\n",
    "data = requests.get(URL).text\n",
    "\n",
    "bs4 = BeautifulSoup(data, \"html.parser\")\n",
    "table = bs4.find_all(\"table\")\n",
    "\n",
    "df = pd.read_html(str(table))[0]\n",
    "df.iloc[:,1:] /= 100"
   ]
  },
  {
   "cell_type": "code",
   "execution_count": null,
   "metadata": {},
   "outputs": [],
   "source": [
    "# преобразование столбца дата в формат datetime\n",
    "df['Дата'] = pd.to_datetime(df['Дата'], dayfirst=True).dt.strftime('%d.%m.%Y')\n",
    "\n",
    "# перенаименование столбцов\n",
    "df.columns = ['date', 'key_rate']\n",
    "df['date'] = pd.to_datetime(df['date'], dayfirst=True)"
   ]
  },
  {
   "cell_type": "code",
   "execution_count": null,
   "metadata": {},
   "outputs": [],
   "source": [
    "# общая информацию о датафрейме\n",
    "df.info()"
   ]
  },
  {
   "cell_type": "code",
   "execution_count": null,
   "metadata": {},
   "outputs": [],
   "source": [
    "# основные описательные статистики для числовых признаков\n",
    "df.iloc[:, 1:].describe()"
   ]
  },
  {
   "cell_type": "code",
   "execution_count": null,
   "metadata": {},
   "outputs": [],
   "source": [
    "df[:5]"
   ]
  },
  {
   "cell_type": "code",
   "execution_count": null,
   "metadata": {},
   "outputs": [],
   "source": [
    "# рисуем график курса ключевой ствки ЦБ РФ и график распределения\n",
    "figure, axes = plt.subplots(1, 2, figsize=(15, 5))\n",
    "\n",
    "sns.set_theme(style=\"whitegrid\", palette=\"Accent\")\n",
    "\n",
    "sns.lineplot(x='date', y='key_rate', data=df, label='Ставка', ax=axes[0])\n",
    "axes[0].set_xlabel('График ставки рефинансирования РФ')\n",
    "axes[0].set_ylabel('Значение ставки')\n",
    "axes[0].legend(loc='best')\n",
    "axes[0].grid(True)\n",
    "\n",
    "sns.kdeplot(x=df['key_rate'], ax=axes[1], fill=True)\n",
    "axes[1].grid(True)\n",
    "axes[1].set_xlabel('График распределения ставки')\n",
    "axes[1].set_ylabel('Плотность вероятности')\n",
    "plt.show()"
   ]
  },
  {
   "cell_type": "markdown",
   "metadata": {},
   "source": [
    "# EDA"
   ]
  },
  {
   "cell_type": "code",
   "execution_count": null,
   "metadata": {},
   "outputs": [],
   "source": [
    "# проверка на нормальное или ненормальное распределение.\n",
    "test_shapiro = stats.shapiro(df['key_rate'])\n",
    "\n",
    "print(test_shapiro)\n",
    "\n",
    "if test_shapiro.pvalue < 0.05:\n",
    "    print('Распределение не нормальное')\n",
    "else:\n",
    "    print('Распределение нормальное')"
   ]
  },
  {
   "cell_type": "code",
   "execution_count": null,
   "metadata": {},
   "outputs": [],
   "source": [
    "def create_features(data, col_datetime):\n",
    "    \"\"\"Создание сезонов и дней недели\"\"\"\n",
    "\n",
    "    data = data.copy()\n",
    "    data['weekday'] = data[col_datetime].dt.day_name().astype(cat_day)\n",
    "    data['month'] = data[col_datetime].dt.month_name().astype(cat_month)\n",
    "    data['year'] = data[col_datetime].dt.year\n",
    "    data['quarter'] = data['date'].dt.quarter\n",
    "    data['date_offset'] = (data[col_datetime].dt.month * 100 + data.date.dt.day - 320) % 1300\n",
    "    data['season'] = data[col_datetime].dt.month.map({1: 'Winter', 2: 'Winter', 3: 'Spring', 4: 'Spring', 5: 'Spring', 6: 'Summer', 7: 'Summer', 8: 'Summer', 9: 'Autumn', 10: 'Autumn', 11: 'Autumn', 12: 'Winter'})\n",
    "    \n",
    "    return data\n",
    "\n",
    "cat_day = CategoricalDtype(categories=['Monday', 'Tuesday', 'Wednesday', 'Thursday', 'Friday', 'Saturday', 'Sunday'], ordered= True)\n",
    "cat_month = CategoricalDtype(categories=['January', 'February', 'March', 'April', 'May', 'June', 'July', 'August', 'September', 'October', 'November', 'December'], ordered= True)\n",
    "\n",
    "df_features = create_features(data=df, col_datetime='date')"
   ]
  },
  {
   "cell_type": "code",
   "execution_count": null,
   "metadata": {},
   "outputs": [],
   "source": [
    "# рисуем графики для анализа\n",
    "figure, axes = plt.subplots(1, 2, figsize=(15, 5))\n",
    "\n",
    "year_group = pd.DataFrame(df_features.groupby('year')['key_rate'].max()).reset_index().sort_values('key_rate')\n",
    "\n",
    "sns.barplot(data=year_group, x='year', y='key_rate', ax=axes[0])\n",
    "axes[0].set_xlabel('Год')\n",
    "axes[0].set_ylabel('Значение ставки')\n",
    "\n",
    "sns.boxplot(data=df_features, x='weekday', y='key_rate', hue='season', ax=axes[1], linewidth=2)\n",
    "axes[1].set_xlabel('День недели')\n",
    "axes[1].set_ylabel('Значение ставки')\n",
    "\n",
    "plt.show()\n",
    "\n"
   ]
  },
  {
   "cell_type": "code",
   "execution_count": null,
   "metadata": {},
   "outputs": [],
   "source": [
    "# дропаем редкие субботние ключевые ставки\n",
    "drop_trash = df_features[(df_features.weekday == 'Saturday')].index\n",
    "df = df[~df.index.isin(drop_trash)]\n",
    "df = df.reset_index(drop=True)"
   ]
  },
  {
   "cell_type": "code",
   "execution_count": null,
   "metadata": {},
   "outputs": [],
   "source": [
    "# перенаименование названия колонок для prophet\n",
    "df.columns = ['ds', 'y']\n",
    "\n",
    "# период, который надо отрезать и предсказать (проверка модели)\n",
    "pred_days = int(df.shape[0]*0.1)\n"
   ]
  },
  {
   "cell_type": "code",
   "execution_count": null,
   "metadata": {},
   "outputs": [],
   "source": [
    "# сортируем данные по возрастанию для корректного отображения разделения графика\n",
    "df = df.sort_values('ds')\n",
    "df = df.reset_index(drop=True)"
   ]
  },
  {
   "cell_type": "code",
   "execution_count": null,
   "metadata": {},
   "outputs": [],
   "source": [
    "# разделение данных на train, test\n",
    "df_train = df[:-pred_days]\n",
    "df_test = df[-pred_days:]\n"
   ]
  },
  {
   "cell_type": "code",
   "execution_count": null,
   "metadata": {},
   "outputs": [],
   "source": [
    "#отображаем график с разделением train, test для наглядности\n",
    "fig, ax = plt.subplots(figsize = (10, 5))\n",
    "\n",
    "df_train.set_index('ds').plot(ax=ax, label= 'train', title='Визуальное разделение на тестовые и тренировочные данные')\n",
    "df_test.set_index('ds').plot(ax=ax, label='test')\n",
    "ax.axvline(df_train['ds'][-1:].values, ls='--', color='black')\n",
    "ax.legend(['df_train', 'df_test'])\n",
    "ax.set_ylabel('Значение ставки')\n",
    "ax.set_xlabel('Год')\n",
    "plt.show()"
   ]
  },
  {
   "cell_type": "code",
   "execution_count": null,
   "metadata": {},
   "outputs": [],
   "source": [
    "# Сохранение DataFrame df в файл data/df.csv\n",
    "df.to_csv('../data/df.csv', index=False)\n",
    "\n",
    "# Сохранение DataFrame df_train в файл data/df_train.csv\n",
    "df_train.to_csv('../data/df_train.csv', index=False)\n",
    "\n",
    "# Сохранение DataFrame df_test в файл data/df_test.csv\n",
    "df_test.to_csv('../data/df_test.csv', index=False)\n"
   ]
  }
 ],
 "metadata": {
  "kernelspec": {
   "display_name": "Python 3",
   "language": "python",
   "name": "python3"
  },
  "language_info": {
   "codemirror_mode": {
    "name": "ipython",
    "version": 3
   },
   "file_extension": ".py",
   "mimetype": "text/x-python",
   "name": "python",
   "nbconvert_exporter": "python",
   "pygments_lexer": "ipython3",
   "version": "3.11.2"
  }
 },
 "nbformat": 4,
 "nbformat_minor": 2
}
