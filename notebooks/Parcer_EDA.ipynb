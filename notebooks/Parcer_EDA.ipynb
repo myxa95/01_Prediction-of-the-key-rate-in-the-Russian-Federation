{
 "cells": [
  {
   "cell_type": "code",
   "execution_count": null,
   "metadata": {},
   "outputs": [],
   "source": [
    "import pandas as pd\n",
    "import matplotlib.pyplot as plt\n",
    "import seaborn as sns\n",
    "import numpy as np\n",
    "import requests\n",
    "import holidays\n",
    "\n",
    "from pandas import CategoricalDtype\n",
    "from bs4 import BeautifulSoup\n",
    "from datetime import date\n",
    "from prophet import Prophet\n",
    "from prophet.serialize import model_to_json\n",
    "from sklearn.metrics import mean_absolute_error, mean_absolute_percentage_error\n",
    "from sklearn.model_selection import ParameterGrid, GridSearchCV\n",
    "from scipy import stats\n",
    "from tqdm import tqdm\n",
    "\n",
    "import sys\n",
    "import os\n",
    "\n",
    "backend_path = os.path.abspath('../backend')\n",
    "sys.path.append(backend_path)\n",
    "from get_metrics import get_metrics\n",
    "\n"
   ]
  },
  {
   "cell_type": "markdown",
   "metadata": {},
   "source": [
    "# Parcing data"
   ]
  },
  {
   "cell_type": "code",
   "execution_count": null,
   "metadata": {},
   "outputs": [],
   "source": [
    "# парсинг ключевой ставки в df\n",
    "URL = 'https://www.cbr.ru/hd_base/keyrate/?UniDbQuery.Posted=True&UniDbQuery.From=17.09.2013&UniDbQuery.To=' + date.today().strftime('%d.%m.%Y')\n",
    "\n",
    "data = requests.get(URL).text\n",
    "\n",
    "bs4 = BeautifulSoup(data, \"html.parser\")\n",
    "table = bs4.find_all(\"table\")\n",
    "\n",
    "df = pd.read_html(str(table))[0]\n",
    "df.iloc[:,1:] /= 100"
   ]
  },
  {
   "cell_type": "code",
   "execution_count": null,
   "metadata": {},
   "outputs": [],
   "source": [
    "# преобразование столбца дата в формат datetime\n",
    "df['Дата'] = pd.to_datetime(df['Дата'], dayfirst=True)\n",
    "\n",
    "# перенаименование столбцов\n",
    "df.columns = ['date', 'key_rate']"
   ]
  },
  {
   "cell_type": "code",
   "execution_count": null,
   "metadata": {},
   "outputs": [],
   "source": [
    "# общая информацию о датафрейме\n",
    "df.info()"
   ]
  },
  {
   "cell_type": "code",
   "execution_count": null,
   "metadata": {},
   "outputs": [],
   "source": [
    "# основные описательные статистики для числовых признаков\n",
    "df.iloc[:, 1:].describe()"
   ]
  },
  {
   "cell_type": "code",
   "execution_count": null,
   "metadata": {},
   "outputs": [],
   "source": [
    "df[:5]"
   ]
  },
  {
   "cell_type": "code",
   "execution_count": null,
   "metadata": {},
   "outputs": [],
   "source": [
    "# рисуем график курса ключевой ствки ЦБ РФ и график распределения\n",
    "figure, axes = plt.subplots(1, 2, figsize=(15, 5))\n",
    "\n",
    "sns.set_theme(style=\"whitegrid\", palette=\"Accent\")\n",
    "\n",
    "sns.lineplot(x='date', y='key_rate', data=df, label='Ставка', ax=axes[0])\n",
    "axes[0].set_xlabel('График ставки рефинансирования РФ')\n",
    "axes[0].set_ylabel('Значение ставки')\n",
    "axes[0].legend(loc='best')\n",
    "axes[0].grid(True)\n",
    "\n",
    "sns.kdeplot(x=df['key_rate'], ax=axes[1], fill=True)\n",
    "axes[1].grid(True)\n",
    "axes[1].set_xlabel('График распределения ставки')\n",
    "axes[1].set_ylabel('Плотность вероятности')\n",
    "plt.show()"
   ]
  },
  {
   "cell_type": "markdown",
   "metadata": {},
   "source": [
    "# EDA"
   ]
  },
  {
   "cell_type": "code",
   "execution_count": null,
   "metadata": {},
   "outputs": [],
   "source": [
    "# проверка на нормальное или ненормальное распределение.\n",
    "test_shapiro = stats.shapiro(df['key_rate'])\n",
    "\n",
    "print(test_shapiro)\n",
    "\n",
    "if test_shapiro.pvalue < 0.05:\n",
    "    print('Распределение не нормальное')\n",
    "else:\n",
    "    print('Распределение нормальное')"
   ]
  },
  {
   "cell_type": "code",
   "execution_count": null,
   "metadata": {},
   "outputs": [],
   "source": [
    "def create_features(data, col_datetime):\n",
    "    \"\"\"Создание сезонов и дней недели\"\"\"\n",
    "\n",
    "    data = data.copy()\n",
    "    data['weekday'] = data[col_datetime].dt.day_name().astype(cat_day)\n",
    "    data['month'] = data[col_datetime].dt.month_name().astype(cat_month)\n",
    "    data['year'] = data[col_datetime].dt.year\n",
    "    data['quarter'] = data['date'].dt.quarter\n",
    "    data['date_offset'] = (data[col_datetime].dt.month * 100 + data.date.dt.day - 320) % 1300\n",
    "    data['season'] = data[col_datetime].dt.month.map({1: 'Winter', 2: 'Winter', 3: 'Spring', 4: 'Spring', 5: 'Spring', 6: 'Summer', 7: 'Summer', 8: 'Summer', 9: 'Autumn', 10: 'Autumn', 11: 'Autumn', 12: 'Winter'})\n",
    "    \n",
    "    return data\n",
    "\n",
    "cat_day = CategoricalDtype(categories=['Monday', 'Tuesday', 'Wednesday', 'Thursday', 'Friday', 'Saturday', 'Sunday'], ordered= True)\n",
    "cat_month = CategoricalDtype(categories=['January', 'February', 'March', 'April', 'May', 'June', 'July', 'August', 'September', 'October', 'November', 'December'], ordered= True)\n",
    "\n",
    "df_features = create_features(data=df, col_datetime='date')"
   ]
  },
  {
   "cell_type": "code",
   "execution_count": null,
   "metadata": {},
   "outputs": [],
   "source": [
    "# рисуем графики для анализа\n",
    "figure, axes = plt.subplots(1, 2, figsize=(15, 5))\n",
    "\n",
    "year_group = pd.DataFrame(df_features.groupby('year')['key_rate'].max()).reset_index().sort_values('key_rate')\n",
    "\n",
    "sns.barplot(data=year_group, x='year', y='key_rate', ax=axes[0])\n",
    "axes[0].set_xlabel('Год')\n",
    "axes[0].set_ylabel('Значение ставки')\n",
    "\n",
    "sns.boxplot(data=df_features, x='weekday', y='key_rate', hue='season', ax=axes[1], linewidth=2)\n",
    "axes[1].set_xlabel('День недели')\n",
    "axes[1].set_ylabel('Значение ставки')\n",
    "\n",
    "plt.show()\n",
    "\n"
   ]
  },
  {
   "cell_type": "code",
   "execution_count": null,
   "metadata": {},
   "outputs": [],
   "source": [
    "# дропаем редкие субботние ключевые ставки\n",
    "drop_trash = df_features[(df_features.weekday == 'Saturday')].index\n",
    "df = df[~df.index.isin(drop_trash)]\n",
    "df = df.reset_index(drop=True)"
   ]
  },
  {
   "cell_type": "code",
   "execution_count": null,
   "metadata": {},
   "outputs": [],
   "source": [
    "# перенаименование названия колонок для prophet\n",
    "df.columns = ['ds', 'y']\n",
    "\n",
    "# период, который надо отрезать и предсказать (проверка модели)\n",
    "pred_days = int(df.shape[0]*0.1)\n"
   ]
  },
  {
   "cell_type": "code",
   "execution_count": null,
   "metadata": {},
   "outputs": [],
   "source": [
    "# сортируем данные по возрастанию для корректного отображения разделения графика\n",
    "df = df.sort_values('ds')\n",
    "df = df.reset_index(drop=True)"
   ]
  },
  {
   "cell_type": "code",
   "execution_count": null,
   "metadata": {},
   "outputs": [],
   "source": [
    "# разделение данных на train, test\n",
    "df_train = df[:-pred_days]\n",
    "df_test = df[-pred_days:]\n"
   ]
  },
  {
   "cell_type": "code",
   "execution_count": null,
   "metadata": {},
   "outputs": [],
   "source": [
    "#отображаем график с разделением train, test для наглядности\n",
    "fig, ax = plt.subplots(figsize = (10, 5))\n",
    "\n",
    "fig.set_figheight(5)\n",
    "fig.set_figwidth(15)\n",
    "df_train.set_index('ds').plot(ax=ax, label= 'train', title='Визуальное разделение на тестовые и тренировочные данные')\n",
    "df_test.set_index('ds').plot(ax=ax, label='test')\n",
    "ax.axvline(df_train['ds'][-1:].values, ls='--', color='black')\n",
    "ax.legend(['df_train', 'df_test'])\n",
    "ax.set_ylabel('Значение ставки')\n",
    "ax.set_xlabel('Год')\n",
    "plt.show()"
   ]
  },
  {
   "cell_type": "code",
   "execution_count": null,
   "metadata": {},
   "outputs": [],
   "source": [
    "# обучение модели на train\n",
    "model = Prophet()\n",
    "model.fit(df_train)"
   ]
  },
  {
   "cell_type": "code",
   "execution_count": null,
   "metadata": {},
   "outputs": [],
   "source": [
    "future = model.make_future_dataframe(periods=pred_days, freq='D')\n",
    "forecast = model.predict(future)\n",
    "forecast[['ds', 'yhat', 'yhat_lower', 'yhat_upper']].tail()"
   ]
  },
  {
   "cell_type": "code",
   "execution_count": null,
   "metadata": {},
   "outputs": [],
   "source": [
    "# смотрим график прогноза\n",
    "fig, ax = plt.subplots(1)\n",
    "fig.set_figheight(5)\n",
    "fig.set_figwidth(15)\n",
    "fig = model.plot(forecast,ax=ax)\n",
    "plt.show()"
   ]
  },
  {
   "cell_type": "code",
   "execution_count": null,
   "metadata": {},
   "outputs": [],
   "source": [
    "# смотрим тренд, годовые и сезонные признаки\n",
    "fig = model.plot_components(forecast)\n",
    "plt.show()"
   ]
  },
  {
   "cell_type": "markdown",
   "metadata": {},
   "source": [
    "## Сравнение фактов и прогнозов"
   ]
  },
  {
   "cell_type": "code",
   "execution_count": null,
   "metadata": {},
   "outputs": [],
   "source": [
    "df_test_forecast = model.predict(df_test)\n",
    "df_test_forecast[['ds', 'yhat', 'yhat_lower', 'yhat_upper']].tail()"
   ]
  },
  {
   "cell_type": "code",
   "execution_count": null,
   "metadata": {},
   "outputs": [],
   "source": [
    "# смотрим совпадение фактического курса с предсказанным курсом prophet обученным на train, проверка модели\n",
    "fig, ax = plt.subplots(figsize= (10, 5))\n",
    "\n",
    "fig.set_figheight(5)\n",
    "fig.set_figwidth(15)\n",
    "predict = model.predict(df_test)\n",
    "fig = model.plot(predict, ax=ax)\n",
    "ax.scatter(df_test.ds, df_test['y'], color = 'g')\n",
    "ax.set_title('Прогноз ключевой ставки, Prophet на test')\n",
    "ax.set_ylabel('Значение ставки')\n",
    "ax.set_xlabel('Год')\n",
    "plt.show()"
   ]
  },
  {
   "cell_type": "code",
   "execution_count": null,
   "metadata": {},
   "outputs": [],
   "source": [
    "# сравнение участка df_test с предсказанием prophet\n",
    "fig, ax = plt.subplots(figsize=(14,5))\n",
    "fig.set_figheight(5)\n",
    "fig.set_figwidth(15)\n",
    "df_test.plot(kind='line',x='ds', y='y', color='red', label='Test', ax=ax)\n",
    "df_test_forecast.plot(kind='line',x='ds',y='yhat', color='green',label='Forecast', ax=ax)\n",
    "plt.title('Сравнение участка df_test с предсказанием prophet')\n",
    "plt.show()"
   ]
  },
  {
   "cell_type": "code",
   "execution_count": null,
   "metadata": {},
   "outputs": [],
   "source": [
    "# просмотр метрик модели обученной на train в сравнени с прогнозом\n",
    "metrics = get_metrics(y_test=df_test['y'], y_pred=df_test_forecast['yhat'], name='Prophet')\n",
    "metrics"
   ]
  },
  {
   "cell_type": "markdown",
   "metadata": {},
   "source": [
    "Из приведенного выше графика мы видим, что существует разрыв в прогнозах и фактических данных. Поэтому нам нужно оптимизировать модель, добавив другие параметры, такие как праздники"
   ]
  },
  {
   "cell_type": "code",
   "execution_count": null,
   "metadata": {},
   "outputs": [],
   "source": [
    "# создаем df праздников в РФ начиная с 2013 по сегодня\n",
    "holiday = pd.DataFrame([])\n",
    "for date, name in sorted(holidays.Russia(years=[2013,2014,2015,2016,2017,2018,2019,2020,2021,2022,2023,2024]).items()):\n",
    "    new_row = pd.DataFrame({'ds': date, 'holiday': \"RU-Holidays\"}, index=[0])\n",
    "    holiday = pd.concat([holiday, new_row], ignore_index=True)  \n",
    "\n",
    "holiday['ds'] = pd.to_datetime(holiday['ds'], format='%Y-%m-%d', errors='ignore')"
   ]
  },
  {
   "cell_type": "code",
   "execution_count": null,
   "metadata": {},
   "outputs": [],
   "source": [
    "# тренировка модели с праздниками\n",
    "model_with_holidays = Prophet(holidays=holiday)\n",
    "model_with_holidays.fit(df_train)"
   ]
  },
  {
   "cell_type": "code",
   "execution_count": null,
   "metadata": {},
   "outputs": [],
   "source": [
    "future = model_with_holidays.make_future_dataframe(periods=pred_days, freq='D')\n",
    "forecast = model_with_holidays.predict(future)\n",
    "forecast[['ds', 'yhat', 'yhat_lower', 'yhat_upper']].tail()"
   ]
  },
  {
   "cell_type": "code",
   "execution_count": null,
   "metadata": {},
   "outputs": [],
   "source": [
    "# смотрим график прогноза с праздниками\n",
    "fig, ax = plt.subplots(1)\n",
    "fig.set_figheight(5)\n",
    "fig.set_figwidth(15)\n",
    "fig = model_with_holidays.plot(forecast,ax=ax)\n",
    "plt.show()"
   ]
  },
  {
   "cell_type": "code",
   "execution_count": null,
   "metadata": {},
   "outputs": [],
   "source": [
    "# смотрим тренд, годовые и сезонные признаки обученной модели с праздниками\n",
    "fig = model_with_holidays.plot_components(forecast)\n",
    "plt.show()"
   ]
  },
  {
   "cell_type": "code",
   "execution_count": null,
   "metadata": {},
   "outputs": [],
   "source": [
    "df_test_forecast_holiday = model_with_holidays.predict(df_test)\n",
    "df_test_forecast_holiday[['ds', 'yhat', 'yhat_lower', 'yhat_upper']].tail()"
   ]
  },
  {
   "cell_type": "code",
   "execution_count": null,
   "metadata": {},
   "outputs": [],
   "source": [
    "# сравнение участка df_test с предсказанием prophet\n",
    "fig, ax = plt.subplots(figsize=(14,5))\n",
    "fig.set_figheight(5)\n",
    "fig.set_figwidth(15)\n",
    "df_test.plot(kind='line',x='ds', y='y', color='red', label='Test', ax=ax)\n",
    "df_test_forecast_holiday.plot(kind='line',x='ds',y='yhat', color='green',label='Forecast', ax=ax)\n",
    "plt.title('Сравнение участка df_test с предсказанием prophet с праздниками')\n",
    "plt.show()"
   ]
  },
  {
   "cell_type": "code",
   "execution_count": null,
   "metadata": {},
   "outputs": [],
   "source": [
    "# сравниваем метрики после добавления в модель праздников \n",
    "metrics = pd.concat([metrics, get_metrics(y_test=df_test['y'], y_pred=df_test_forecast_holiday['yhat'], name='Prophet_with_holidays')])\n",
    "metrics"
   ]
  },
  {
   "cell_type": "markdown",
   "metadata": {},
   "source": [
    "Из метрик и графиков видим, что модель с праздниками показывает результаты немного хуже"
   ]
  },
  {
   "cell_type": "markdown",
   "metadata": {},
   "source": [
    "# Тюнинг тест модели"
   ]
  },
  {
   "cell_type": "code",
   "execution_count": null,
   "metadata": {},
   "outputs": [],
   "source": [
    "# создание сетки параметров и подсчёт количества вариаций обучения\n",
    "params_grid = {\n",
    "    'changepoint_prior_scale': [0.001, 0.005, 0.01, 0.05, 0.1, 0.25, 0.5],\n",
    "    'seasonality_prior_scale': [0.01, 0.05, 0.1, 0.5, 1.0, 3.0, 6.0, 10.0], \n",
    "    'holidays_prior_scale': [0.01, 0.05, 0.1, 0.5, 1.0, 3.0, 6.0, 10.0],\n",
    "    'seasonality_mode': ('multiplicative','additive'),\n",
    "    'changepoint_range': [0.7, 0.8, 0.95]\n",
    "    #'daily_seasonality': (True, False),\n",
    "    #'weekly_seasonality': (True, False),\n",
    "    #'yearly_seasonality': (True, False),\n",
    "    }\n",
    "grid = ParameterGrid(params_grid)\n",
    "cnt = 0\n",
    "for p in grid:\n",
    "    cnt = cnt+1\n",
    "\n",
    "print('Количество моделей для обучения по сетке:', cnt)"
   ]
  },
  {
   "cell_type": "code",
   "execution_count": null,
   "metadata": {},
   "outputs": [],
   "source": [
    "# Создаем пустой DataFrame для сохранения метрик\n",
    "model_grid_metrics = pd.DataFrame()\n",
    "model_grid_parameters = pd.DataFrame(columns = ['Parameters'])\n",
    "\n",
    "# Проходимся по сетке гиперпараметров\n",
    "for p in tqdm(grid):\n",
    "    print(p)\n",
    "#for p in grid:\n",
    "#    print(p)\n",
    "    \n",
    "    # Создаем модель Prophet с текущими гиперпараметрами\n",
    "    model_grid = Prophet(\n",
    "        changepoint_prior_scale = p['changepoint_prior_scale'],\n",
    "        seasonality_prior_scale = p['seasonality_prior_scale'],\n",
    "        holidays_prior_scale = p['holidays_prior_scale'],\n",
    "        seasonality_mode = p['seasonality_mode'],\n",
    "        changepoint_range = p['changepoint_range'],\n",
    "        #daily_seasonality = p['daily_seasonality'],\n",
    "        #weekly_seasonality = p['weekly_seasonality'],\n",
    "        #yearly_seasonality = p['yearly_seasonality'],\n",
    "        #holidays=holiday,\n",
    "    )\n",
    "\n",
    "    # Добавляем праздники в модель\n",
    "    #model_grid.add_country_holidays(country_name='RU')\n",
    "\n",
    "    # Обучаем модель данными\n",
    "    model_grid.fit(df_train)\n",
    "\n",
    "    # Создаем фрейм данных для предсказаний\n",
    "    model_grid_future = model_grid.make_future_dataframe(periods=pred_days, freq='D', include_history=False)\n",
    "\n",
    "    # Делаем предсказания\n",
    "    model_grid_forecast = model_grid.predict(model_grid_future)\n",
    "\n",
    "    # Вычисляем метрики и добавляем новую строку в DataFrame\n",
    "    model_grid_metrics = pd.concat([model_grid_metrics, get_metrics(y_test=df_test['y'], y_pred=model_grid_forecast['yhat'], name='Prophet_with_grid ')])\n",
    "    model_grid_parameters = pd.concat([model_grid_parameters, pd.DataFrame({'Parameters': [p]})], ignore_index=True)\n",
    "\n"
   ]
  },
  {
   "cell_type": "code",
   "execution_count": null,
   "metadata": {},
   "outputs": [],
   "source": [
    "model_grid_metrics = model_grid_metrics.reset_index(drop=True)"
   ]
  },
  {
   "cell_type": "code",
   "execution_count": null,
   "metadata": {},
   "outputs": [],
   "source": [
    "# Объединение DataFrame по столбцам (axis=1)\n",
    "metrics_parameters_with_grid = pd.concat([model_grid_metrics, model_grid_parameters], axis=1)\n",
    "metrics_parameters_with_grid"
   ]
  },
  {
   "cell_type": "code",
   "execution_count": null,
   "metadata": {},
   "outputs": [],
   "source": [
    "metrics_parameters_with_grid = metrics_parameters_with_grid.sort_values(by=['MAE'])\n",
    "metrics_parameters_with_grid = metrics_parameters_with_grid.reset_index(drop=True)\n",
    "metrics_parameters_with_grid.head()"
   ]
  },
  {
   "cell_type": "code",
   "execution_count": null,
   "metadata": {},
   "outputs": [],
   "source": [
    "styled_df = metrics_parameters_with_grid.style.highlight_min(subset=['MAE','MAPE_%','MSE','RMSE'], color='green')\n",
    "styled_df\n",
    "\n"
   ]
  },
  {
   "cell_type": "markdown",
   "metadata": {},
   "source": [
    "## Лучшие параметры после обучения по сетке"
   ]
  },
  {
   "cell_type": "code",
   "execution_count": null,
   "metadata": {},
   "outputs": [],
   "source": [
    "best_params = metrics_parameters_with_grid['Parameters'][0]\n",
    "best_params\n"
   ]
  },
  {
   "cell_type": "code",
   "execution_count": null,
   "metadata": {},
   "outputs": [],
   "source": [
    "final_test_model = Prophet(**best_params)\n",
    "final_test_model.fit(df_train)"
   ]
  },
  {
   "cell_type": "code",
   "execution_count": null,
   "metadata": {},
   "outputs": [],
   "source": [
    "# Вывод всех параметров модели Prophet\n",
    "print(final_test_model.params)"
   ]
  },
  {
   "cell_type": "code",
   "execution_count": null,
   "metadata": {},
   "outputs": [],
   "source": [
    "future = final_test_model.make_future_dataframe(periods=pred_days, freq='D')\n",
    "forecast = final_test_model.predict(future)\n",
    "forecast[['ds', 'yhat', 'yhat_lower', 'yhat_upper']].tail()"
   ]
  },
  {
   "cell_type": "code",
   "execution_count": null,
   "metadata": {},
   "outputs": [],
   "source": [
    "fig = final_test_model.plot_components(forecast)"
   ]
  },
  {
   "cell_type": "code",
   "execution_count": null,
   "metadata": {},
   "outputs": [],
   "source": [
    "# смотрим график прогноза с grid\n",
    "fig, ax = plt.subplots(1)\n",
    "fig.set_figheight(5)\n",
    "fig.set_figwidth(15)\n",
    "fig = final_test_model.plot(forecast,ax=ax)\n",
    "plt.show()"
   ]
  },
  {
   "cell_type": "code",
   "execution_count": null,
   "metadata": {},
   "outputs": [],
   "source": [
    "df_test_forecast_final = final_test_model.predict(df_test)\n",
    "df_test_forecast_final[['ds', 'yhat', 'yhat_lower', 'yhat_upper']].tail()"
   ]
  },
  {
   "cell_type": "code",
   "execution_count": null,
   "metadata": {},
   "outputs": [],
   "source": [
    "# сравнение участка df_test с предсказанием prophet grid\n",
    "fig, ax = plt.subplots(figsize=(14,5))\n",
    "fig.set_figheight(5)\n",
    "fig.set_figwidth(15)\n",
    "df_test.plot(kind='line',x='ds', y='y', color='red', label='Test', ax=ax)\n",
    "df_test_forecast_final.plot(kind='line',x='ds',y='yhat', color='green',label='Forecast', ax=ax)\n",
    "plt.title('Сравнение участка df_test с предсказанием prophet grid')\n",
    "plt.show()"
   ]
  },
  {
   "cell_type": "code",
   "execution_count": null,
   "metadata": {},
   "outputs": [],
   "source": [
    "# сравниваем метрики после добавления в модель праздников \n",
    "metrics = pd.concat([metrics, get_metrics(y_test=df_test['y'], y_pred=df_test_forecast_final['yhat'], name='Prophet_with_grid')])\n",
    "metrics"
   ]
  },
  {
   "cell_type": "code",
   "execution_count": null,
   "metadata": {},
   "outputs": [],
   "source": [
    "# Сохранение DataFrame df в файл data/df.csv\n",
    "df.to_csv('../data/df.csv', index=False)\n",
    "\n",
    "# Сохранение DataFrame df_train в файл data/df_train.csv\n",
    "df_train.to_csv('../data/df_train.csv', index=False)\n",
    "\n",
    "# Сохранение DataFrame df_test в файл data/df_test.csv\n",
    "df_test.to_csv('../data/df_test.csv', index=False)\n"
   ]
  },
  {
   "cell_type": "code",
   "execution_count": null,
   "metadata": {},
   "outputs": [],
   "source": [
    "# Сохранение модели в JSON файл\n",
    "with open('../backend/final_test_model.json', 'w') as fout:\n",
    "    fout.write(model_to_json(final_test_model))"
   ]
  }
 ],
 "metadata": {
  "kernelspec": {
   "display_name": "Python 3",
   "language": "python",
   "name": "python3"
  },
  "language_info": {
   "codemirror_mode": {
    "name": "ipython",
    "version": 3
   },
   "file_extension": ".py",
   "mimetype": "text/x-python",
   "name": "python",
   "nbconvert_exporter": "python",
   "pygments_lexer": "ipython3",
   "version": "3.11.2"
  }
 },
 "nbformat": 4,
 "nbformat_minor": 2
}
